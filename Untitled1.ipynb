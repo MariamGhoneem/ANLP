{
  "nbformat": 4,
  "nbformat_minor": 0,
  "metadata": {
    "colab": {
      "name": "Untitled1.ipynb",
      "provenance": [],
      "toc_visible": true,
      "include_colab_link": true
    },
    "kernelspec": {
      "name": "python3",
      "display_name": "Python 3"
    },
    "language_info": {
      "name": "python"
    }
  },
  "cells": [
    {
      "cell_type": "markdown",
      "metadata": {
        "id": "view-in-github",
        "colab_type": "text"
      },
      "source": [
        "<a href=\"https://colab.research.google.com/github/MariamGhoneem/ANLP/blob/main/Untitled1.ipynb\" target=\"_parent\"><img src=\"https://colab.research.google.com/assets/colab-badge.svg\" alt=\"Open In Colab\"/></a>"
      ]
    },
    {
      "cell_type": "code",
      "execution_count": null,
      "metadata": {
        "id": "Rkxqn4Sn1byG"
      },
      "outputs": [],
      "source": [
        "import pandas as pd\n",
        "#import nltk\n",
        "\n",
        "df = pd.read_excel('final.xlsx',names=['label','text'],header=None,)\n",
        "#df['text'] = df['text'].apply(nltk.word_tokenize)\n",
        "#rootstemm = nltk.ISRIStemmer()\n",
        "\n",
        "#df['text'] = df['text'].apply(lambda x: [rootstemm.stem(y) for y in x ])"
      ]
    },
    {
      "cell_type": "code",
      "source": [
        "from google.colab import drive\n",
        "drive.mount('/content/drive')"
      ],
      "metadata": {
        "id": "EpcJOGNGJHHw"
      },
      "execution_count": null,
      "outputs": []
    },
    {
      "cell_type": "code",
      "source": [
        "from sklearn.feature_extraction.text import CountVectorizer\n",
        "vec = CountVectorizer(binary=True,lowercase=False)\n",
        "feature = vec.fit_transform(df['text'])\n",
        "pd.DataFrame(feature.toarray(),columns=sorted(vec.vocabulary_.keys()))"
      ],
      "metadata": {
        "id": "zg-DghMs5koq"
      },
      "execution_count": null,
      "outputs": []
    },
    {
      "cell_type": "code",
      "source": [
        "from sklearn.feature_extraction.text import CountVectorizer\n",
        "vec = CountVectorizer()\n",
        "feature = vec.fit_transform(df['text'])\n",
        "pd.DataFrame(feature.toarray(),columns=vec.vocabulary_.keys())"
      ],
      "metadata": {
        "id": "NCSNfImb3Vkq"
      },
      "execution_count": null,
      "outputs": []
    },
    {
      "cell_type": "code",
      "source": [
        "from sklearn.feature_extraction.text import TfidfVectorizer\n",
        "vec = TfidfVectorizer()\n",
        "feature = vec.fit_transform(df['text'])\n",
        "pd.DataFrame(feature.toarray(),columns=vec.vocabulary_.keys())"
      ],
      "metadata": {
        "id": "4iZJ5sCw5Cqp"
      },
      "execution_count": null,
      "outputs": []
    },
    {
      "cell_type": "code",
      "source": [
        "from sklearn.model_selection import train_test_split\n",
        "from sklearn.naive_bayes import MultinomialNB\n",
        "\n",
        "x_train,x_test,y_train,y_test = train_test_split(feature,df['label'],test_size=0.2)\n",
        "model = MultinomialNB()\n",
        "model.fit(x_train,y_train)\n",
        "predicted = model.predict(x_test)"
      ],
      "metadata": {
        "id": "-diJQXGB1yLF"
      },
      "execution_count": null,
      "outputs": []
    },
    {
      "cell_type": "code",
      "source": [
        "from sklearn.metrics import accuracy_score,confusion_matrix\n",
        "\n",
        "accuracy_score(y_test,predicted)\n",
        "confusion_matrix(y_test,predicted)"
      ],
      "metadata": {
        "colab": {
          "base_uri": "https://localhost:8080/"
        },
        "id": "wc0EY0_Y_6aB",
        "outputId": "57b3fef4-b9df-4765-80b7-051b4232037e"
      },
      "execution_count": null,
      "outputs": [
        {
          "output_type": "execute_result",
          "data": {
            "text/plain": [
              "array([[271,   1,  20],\n",
              "       [  0, 161,  25],\n",
              "       [  2,  20, 448]])"
            ]
          },
          "metadata": {},
          "execution_count": 22
        }
      ]
    }
  ]
}